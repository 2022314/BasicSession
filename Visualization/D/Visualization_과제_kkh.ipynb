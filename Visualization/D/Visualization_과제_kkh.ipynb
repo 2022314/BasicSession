{
 "cells": [
  {
   "cell_type": "markdown",
   "metadata": {
    "id": "aWXKjHASqBHr"
   },
   "source": [
    "# WordCloud"
   ]
  },
  {
   "cell_type": "code",
   "execution_count": null,
   "metadata": {
    "colab": {
     "base_uri": "https://localhost:8080/"
    },
    "id": "ybiDNeGcQJn_",
    "outputId": "f730186e-6453-4229-f076-1e679ecda37f"
   },
   "outputs": [
    {
     "name": "stdout",
     "output_type": "stream",
     "text": [
      "Collecting konlpy\n",
      "  Downloading konlpy-0.6.0-py2.py3-none-any.whl (19.4 MB)\n",
      "\u001b[K     |████████████████████████████████| 19.4 MB 531 kB/s \n",
      "\u001b[?25hRequirement already satisfied: numpy>=1.6 in /usr/local/lib/python3.7/dist-packages (from konlpy) (1.19.5)\n",
      "Requirement already satisfied: lxml>=4.1.0 in /usr/local/lib/python3.7/dist-packages (from konlpy) (4.2.6)\n",
      "Collecting JPype1>=0.7.0\n",
      "  Downloading JPype1-1.3.0-cp37-cp37m-manylinux_2_5_x86_64.manylinux1_x86_64.whl (448 kB)\n",
      "\u001b[K     |████████████████████████████████| 448 kB 76.9 MB/s \n",
      "\u001b[?25hRequirement already satisfied: typing-extensions in /usr/local/lib/python3.7/dist-packages (from JPype1>=0.7.0->konlpy) (3.10.0.2)\n",
      "Installing collected packages: JPype1, konlpy\n",
      "Successfully installed JPype1-1.3.0 konlpy-0.6.0\n"
     ]
    }
   ],
   "source": [
    "!pip install konlpy\n",
    "import re\n",
    "import konlpy\n",
    "import pandas as pd"
   ]
  },
  {
   "cell_type": "code",
   "execution_count": null,
   "metadata": {
    "id": "OiHzvpu8VzcW"
   },
   "outputs": [],
   "source": [
    "#'과제_뉴스 기사' 텍스트 불러오고 string으로 읽기\n",
    "with open('', encoding='utf-8') as f:  #본인 디렉토리에 맞게 설정해주세요!\n",
    "    text = f.readlines()\n",
    "    "
   ]
  },
  {
   "cell_type": "code",
   "execution_count": null,
   "metadata": {
    "colab": {
     "base_uri": "https://localhost:8080/"
    },
    "id": "NOICXPfPV5rr",
    "outputId": "65c43f7c-be13-464d-9188-04ea1cdc2992"
   },
   "outputs": [
    {
     "data": {
      "text/plain": [
       "Counter({'6월': 3,\n",
       "         '가계': 4,\n",
       "         '가중': 1,\n",
       "         '강화': 1,\n",
       "         '거래': 2,\n",
       "         '경신': 1,\n",
       "         '관계자': 1,\n",
       "         '관련': 1,\n",
       "         '규모': 1,\n",
       "         '규제': 1,\n",
       "         '금고': 1,\n",
       "         '금리': 17,\n",
       "         '금융': 1,\n",
       "         '금지': 1,\n",
       "         '기관': 1,\n",
       "         '기록': 2,\n",
       "         '기자': 1,\n",
       "         '기준': 2,\n",
       "         '기후': 1,\n",
       "         '늦기 전에': 1,\n",
       "         '담보': 1,\n",
       "         '대기': 1,\n",
       "         '대로': 1,\n",
       "         '대비': 3,\n",
       "         '대책': 1,\n",
       "         '대출': 15,\n",
       "         '대출금': 1,\n",
       "         '때문': 2,\n",
       "         '리도': 1,\n",
       "         '만원': 1,\n",
       "         '매매': 1,\n",
       "         '무단': 1,\n",
       "         '발표': 1,\n",
       "         '배포': 1,\n",
       "         '보관': 1,\n",
       "         '부동산': 2,\n",
       "         '비율': 2,\n",
       "         '사람': 2,\n",
       "         '사상': 4,\n",
       "         '사자': 1,\n",
       "         '사태': 1,\n",
       "         '상품': 1,\n",
       "         '설명': 1,\n",
       "         '속도': 1,\n",
       "         '수단': 1,\n",
       "         '수요': 1,\n",
       "         '수준': 2,\n",
       "         '시대': 2,\n",
       "         '시장': 1,\n",
       "         '신용': 7,\n",
       "         '신용거래': 1,\n",
       "         '신용등급': 1,\n",
       "         '안전': 1,\n",
       "         '얘기': 2,\n",
       "         '역대': 5,\n",
       "         '연간': 1,\n",
       "         '예금': 4,\n",
       "         '예탁금': 2,\n",
       "         '우량': 2,\n",
       "         '융자': 1,\n",
       "         '은행': 7,\n",
       "         '이번': 1,\n",
       "         '이후': 1,\n",
       "         '자금': 1,\n",
       "         '잔액': 1,\n",
       "         '적금': 1,\n",
       "         '전세': 1,\n",
       "         '전월': 3,\n",
       "         '전재': 1,\n",
       "         '전체': 1,\n",
       "         '전후': 1,\n",
       "         '정기예금': 1,\n",
       "         '정부': 1,\n",
       "         '조선일보': 1,\n",
       "         '주범': 1,\n",
       "         '주식': 3,\n",
       "         '주택': 3,\n",
       "         '증가': 4,\n",
       "         '증시': 1,\n",
       "         '지난달': 1,\n",
       "         '지난해': 1,\n",
       "         '집계': 1,\n",
       "         '차주': 2,\n",
       "         '처음': 2,\n",
       "         '최고': 1,\n",
       "         '최대': 1,\n",
       "         '최저': 5,\n",
       "         '코로나': 1,\n",
       "         '투자': 2,\n",
       "         '투자자': 1,\n",
       "         '패닉': 1,\n",
       "         '평균': 4,\n",
       "         '포인트': 2,\n",
       "         '한국은행': 1,\n",
       "         '한은': 2,\n",
       "         '해석': 1,\n",
       "         '현상': 1})"
      ]
     },
     "execution_count": 3,
     "metadata": {},
     "output_type": "execute_result"
    }
   ],
   "source": [
    "text_strip = [i.strip() for i in text if i != '\\n']\n",
    "text_join = ' '.join(text_strip)\n",
    "#빈 줄과 양 끝단의 공백 제거\n",
    "p = re.compile(r'\\bclass\\b')\n",
    "filtered_content = re.sub(r'[^\\d\\s\\w]', ' ', text_join)\n",
    "#원하는 형태소 분석기로 pos 태깅, morphs, 그리고 명사만 모아놓은 변수 만들어보기\n",
    "okt = konlpy.tag.Okt()\n",
    "okt_pos = okt.pos(filtered_content)\n",
    "\n",
    "komoran = konlpy.tag.Komoran()\n",
    "komoran.morphs(filtered_content)\n",
    "\n",
    "komoran_nouns = komoran.nouns(filtered_content)\n",
    "\n",
    "#이메일, 날짜 등 불용어 제거\n",
    "from nltk.corpus import stopwords\n",
    "stop_words = ['이오', '에다', '하오', '마오'] #한국어로 할 때는 직접 설정.\n",
    "unique_Noun_words = set(komoran_nouns)\n",
    "for word in unique_Noun_words:\n",
    "    if word in stop_words or len(word) == 1:  #한 글자짜리 단어는 알아보기 어려워서 제거.\n",
    "        while word in komoran_nouns:\n",
    "            komoran_nouns.remove(word)\n",
    "\n",
    "#Counter 모듈로 빈도 분석\n",
    "from collections import Counter\n",
    "c = Counter(komoran_nouns)\n",
    "c"
   ]
  },
  {
   "cell_type": "code",
   "execution_count": null,
   "metadata": {
    "id": "r-XleRvyWTQ_"
   },
   "outputs": [],
   "source": [
    "from wordcloud import WordCloud\n",
    "import matplotlib.pyplot as plt\n",
    "from os import path"
   ]
  },
  {
   "cell_type": "markdown",
   "metadata": {
    "id": "6TCZVreJy1p9"
   },
   "source": [
    "## 한글폰트 다운로드\n",
    "나눔 폰트를 다운 받고 font_path를 저장해주세요. 이후 plt.rc를 활용해 폰트를 지정해주세요."
   ]
  },
  {
   "cell_type": "code",
   "execution_count": null,
   "metadata": {
    "id": "X851mQHd15Y1"
   },
   "outputs": [],
   "source": []
  },
  {
   "cell_type": "markdown",
   "metadata": {
    "id": "Cer8hC6Hy-9u"
   },
   "source": [
    "## 워드클라우드 시각화\n",
    "단어별 빈도분석이 저장된 c 라는 객체를 WordCloud 시각화해주세요.\n",
    "\n",
    "Hint: \n",
    "<br>wordcloud = WordCloud(~~~)\n",
    "<br>wordcloud.generate_from_frequencies(c)\n",
    "<br>wordcloud.to_image()\n",
    "<br>잘 모르시겠으면 Notion에 업로드된 텍스트 마이닝의 워드클라우드 강의를 참고해주세요."
   ]
  },
  {
   "cell_type": "code",
   "execution_count": null,
   "metadata": {
    "id": "DfRZfQe316fb"
   },
   "outputs": [],
   "source": []
  },
  {
   "cell_type": "markdown",
   "metadata": {
    "id": "66LE4SDLqJU6"
   },
   "source": [
    "# Bike Sharing Demand"
   ]
  },
  {
   "cell_type": "markdown",
   "metadata": {
    "id": "wiW_e6po0e6c"
   },
   "source": [
    "출처: https://www.kaggle.com/c/bike-sharing-demand/data?select=train.csv"
   ]
  },
  {
   "cell_type": "markdown",
   "metadata": {
    "id": "IMMLgqRtppzW"
   },
   "source": [
    "## Load Dataset\n",
    "\n",
    "첨부된 train 데이터를 불러와주세요."
   ]
  },
  {
   "cell_type": "code",
   "execution_count": null,
   "metadata": {
    "id": "-CrIW7Oh17FN"
   },
   "outputs": [],
   "source": []
  },
  {
   "cell_type": "markdown",
   "metadata": {
    "id": "ZCsMnXcap4_t"
   },
   "source": [
    "## 전처리\n",
    "datetime의 data를 연/월/일/시간/분/초/요일로 쪼개서 새로운 컬럼에 담아주세요.\n",
    "전처리 하고 나면 연 컬럼, 월 컬럼부터 초 컬럼, 요일 컬럼까지 총 7개의 컬럼이 추가 되어야합니다.\n",
    "<br>Hint:파이썬에 내장된 .dt 함수를 활용해주세요."
   ]
  },
  {
   "cell_type": "code",
   "execution_count": null,
   "metadata": {
    "id": "oiz_NsrN18LR"
   },
   "outputs": [],
   "source": []
  },
  {
   "cell_type": "markdown",
   "metadata": {
    "id": "5rJ5pi2grUwg"
   },
   "source": [
    "datetime의 요일 컬럼을 사람이 알아보기 쉽게 Monday~Sunday로 바꿔주세요.\n",
    "dt 함수를 사용하셨다면 다음과 같이 바꾸시면 됩니다.\n",
    "<br> 0 = Monday\n",
    "<br> 1 = Tuesday\n",
    "<br> 2 = Wednesday\n",
    "<br> 3 = Thursday\n",
    "<br> 4 = Friday\n",
    "<br> 5 = Saturday\n",
    "<br> 6 = Sunday"
   ]
  },
  {
   "cell_type": "code",
   "execution_count": null,
   "metadata": {
    "id": "DHibUkDc19P4"
   },
   "outputs": [],
   "source": []
  },
  {
   "cell_type": "markdown",
   "metadata": {
    "id": "NNsnZb2ir3sh"
   },
   "source": [
    "## 시각화\n",
    "\n"
   ]
  },
  {
   "cell_type": "markdown",
   "metadata": {
    "id": "0YTsu05R2FF0"
   },
   "source": [
    "### 1)\n",
    "연도별 자전거 대여량과 월별 자전거 대여량을 시각화 해주세요.\n",
    "\n",
    "이후 각 시각화한 plot에서 각자 인사이트를 도출해주세요.\n",
    "\n",
    "<br> 힌트: barchart, 계절"
   ]
  },
  {
   "cell_type": "code",
   "execution_count": null,
   "metadata": {
    "id": "ZfDO0jxV1-Aa"
   },
   "outputs": [],
   "source": []
  },
  {
   "cell_type": "markdown",
   "metadata": {
    "id": "A_U4aGuA2WaN"
   },
   "source": []
  },
  {
   "cell_type": "markdown",
   "metadata": {
    "id": "-9G2RV30t-8L"
   },
   "source": [
    "###2)\n",
    "연컬럼과 월컬럼을 합쳐주세요. 이후 2011년 1월부터 2012년 12월까지 월별 자전거 대여량을 시각화 해주세요. \n",
    "\n",
    "이전에 시각화한 월별 자전거 대여량 시각화 차트에서, 어째서 1월과 12월의 자전거 대여량의 차이가 크게 났는지 설명해주세요."
   ]
  },
  {
   "cell_type": "code",
   "execution_count": null,
   "metadata": {
    "id": "8JTCFDJm1_QQ"
   },
   "outputs": [],
   "source": []
  },
  {
   "cell_type": "markdown",
   "metadata": {
    "id": "AI6IH3uQ2W7W"
   },
   "source": []
  },
  {
   "cell_type": "markdown",
   "metadata": {
    "id": "13PNfioCuohJ"
   },
   "source": [
    "###3)\n",
    "아래의 정보가 나타나게 시각화 해주세요.\n",
    "<br>1) 시간별 자전거 대여량\n",
    "<br>2) 근무일/휴일에 따른 시간별 자전거 대여량\n",
    "<br>3) 요일에 따른 시간별 자전거 대여량\n",
    "\n",
    "이 플랏에서 인사이트를 도출해주세요.\n",
    "\n",
    "Hint: pointplot, hue"
   ]
  },
  {
   "cell_type": "code",
   "execution_count": null,
   "metadata": {
    "id": "_FCchDFp2XRy"
   },
   "outputs": [],
   "source": []
  },
  {
   "cell_type": "markdown",
   "metadata": {
    "id": "f-02AuD42XwQ"
   },
   "source": []
  },
  {
   "cell_type": "markdown",
   "metadata": {
    "id": "wfhiBEULyD5k"
   },
   "source": [
    "# mpg"
   ]
  },
  {
   "cell_type": "markdown",
   "metadata": {
    "id": "sR039-scyMna"
   },
   "source": [
    "\n",
    "## Load Dataset\n",
    "seaborn을 이용해 'mpg'데이터셋을 불러와주세요."
   ]
  },
  {
   "cell_type": "code",
   "execution_count": null,
   "metadata": {
    "id": "-c1uxIgj2Qhs"
   },
   "outputs": [],
   "source": []
  },
  {
   "cell_type": "markdown",
   "metadata": {
    "id": "gU3R-jA1yUF5"
   },
   "source": [
    "## 시각화\n",
    "\n",
    "model_year과 mpg 데이터 값을 산점도로 보여주고, 그 간의 선형관계를 선으로 보여주세요.\n",
    "<br> Hint: regplot"
   ]
  },
  {
   "cell_type": "code",
   "execution_count": null,
   "metadata": {
    "id": "V1YYpDLx2RnJ"
   },
   "outputs": [],
   "source": []
  },
  {
   "cell_type": "markdown",
   "metadata": {
    "id": "Fta0mY6W03Hg"
   },
   "source": [
    "너무너무 고생 많으셨습니다!! 시각화 세션 화이팅하세요ㅎㅎㅎ\n"
   ]
  }
 ],
 "metadata": {
  "colab": {
   "collapsed_sections": [],
   "name": "Visualization 과제.ipynb",
   "provenance": [],
   "toc_visible": true
  },
  "kernelspec": {
   "display_name": "Python 3 (ipykernel)",
   "language": "python",
   "name": "python3"
  },
  "language_info": {
   "codemirror_mode": {
    "name": "ipython",
    "version": 3
   },
   "file_extension": ".py",
   "mimetype": "text/x-python",
   "name": "python",
   "nbconvert_exporter": "python",
   "pygments_lexer": "ipython3",
   "version": "3.9.7"
  }
 },
 "nbformat": 4,
 "nbformat_minor": 1
}
